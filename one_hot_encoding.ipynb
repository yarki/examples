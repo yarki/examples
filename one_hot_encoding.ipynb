{
 "cells": [
  {
   "cell_type": "markdown",
   "metadata": {
    "toc": "true"
   },
   "source": [
    "# Table of Contents\n",
    " <p><div class=\"lev1 toc-item\"><a href=\"#Description\" data-toc-modified-id=\"Description-1\"><span class=\"toc-item-num\">1&nbsp;&nbsp;</span>Description</a></div><div class=\"lev1 toc-item\"><a href=\"#Imports\" data-toc-modified-id=\"Imports-2\"><span class=\"toc-item-num\">2&nbsp;&nbsp;</span>Imports</a></div><div class=\"lev1 toc-item\"><a href=\"#Components\" data-toc-modified-id=\"Components-3\"><span class=\"toc-item-num\">3&nbsp;&nbsp;</span>Components</a></div><div class=\"lev1 toc-item\"><a href=\"#Behavior\" data-toc-modified-id=\"Behavior-4\"><span class=\"toc-item-num\">4&nbsp;&nbsp;</span>Behavior</a></div><div class=\"lev1 toc-item\"><a href=\"#Usage\" data-toc-modified-id=\"Usage-5\"><span class=\"toc-item-num\">5&nbsp;&nbsp;</span>Usage</a></div><div class=\"lev2 toc-item\"><a href=\"#Categorical-feature\" data-toc-modified-id=\"Categorical-feature-51\"><span class=\"toc-item-num\">5.1&nbsp;&nbsp;</span>Categorical feature</a></div><div class=\"lev2 toc-item\"><a href=\"#Multicategorical-feature\" data-toc-modified-id=\"Multicategorical-feature-52\"><span class=\"toc-item-num\">5.2&nbsp;&nbsp;</span>Multicategorical feature</a></div><div class=\"lev1 toc-item\"><a href=\"#Persistence\" data-toc-modified-id=\"Persistence-6\"><span class=\"toc-item-num\">6&nbsp;&nbsp;</span>Persistence</a></div>"
   ]
  },
  {
   "cell_type": "markdown",
   "metadata": {
    "ExecuteTime": {
     "end_time": "2018-05-25T16:27:59.279000Z",
     "start_time": "2018-05-25T16:27:59.271000Z"
    }
   },
   "source": [
    "# Description"
   ]
  },
  {
   "cell_type": "markdown",
   "metadata": {},
   "source": [
    "One hot encoding (for categorical and multicategorical features) via scikit-learn CountVectorizer"
   ]
  },
  {
   "cell_type": "markdown",
   "metadata": {
    "ExecuteTime": {
     "end_time": "2018-05-25T16:27:48.492000Z",
     "start_time": "2018-05-25T16:27:48.487000Z"
    }
   },
   "source": [
    "# Imports"
   ]
  },
  {
   "cell_type": "code",
   "execution_count": 1,
   "metadata": {
    "ExecuteTime": {
     "end_time": "2018-05-25T16:33:53.870000Z",
     "start_time": "2018-05-25T16:33:53.451000Z"
    },
    "collapsed": true
   },
   "outputs": [],
   "source": [
    "from sklearn.feature_extraction.text import CountVectorizer\n",
    "import pickle"
   ]
  },
  {
   "cell_type": "markdown",
   "metadata": {},
   "source": [
    "# Components"
   ]
  },
  {
   "cell_type": "code",
   "execution_count": 2,
   "metadata": {
    "ExecuteTime": {
     "end_time": "2018-05-25T16:33:53.880000Z",
     "start_time": "2018-05-25T16:33:53.873000Z"
    },
    "collapsed": true
   },
   "outputs": [],
   "source": [
    "class CategoricalAnalyzer:    \n",
    "    def __call__(self, value):\n",
    "        assert not isinstance(value, list), 'don\\'t give me a list!'\n",
    "        return [value]\n",
    "    \n",
    "class MulticategoricalAnalyzer:\n",
    "    def __call__(self, value):\n",
    "        assert isinstance(value, list), 'hey! give me a list!'\n",
    "        return value"
   ]
  },
  {
   "cell_type": "markdown",
   "metadata": {},
   "source": [
    "# Behavior"
   ]
  },
  {
   "cell_type": "code",
   "execution_count": 3,
   "metadata": {
    "ExecuteTime": {
     "end_time": "2018-05-25T16:33:54.053000Z",
     "start_time": "2018-05-25T16:33:53.883000Z"
    }
   },
   "outputs": [
    {
     "data": {
      "text/plain": [
       "['Bob']"
      ]
     },
     "execution_count": 3,
     "metadata": {},
     "output_type": "execute_result"
    }
   ],
   "source": [
    "CategoricalAnalyzer().__call__('Bob')"
   ]
  },
  {
   "cell_type": "code",
   "execution_count": 4,
   "metadata": {
    "ExecuteTime": {
     "end_time": "2018-05-25T16:33:54.158000Z",
     "start_time": "2018-05-25T16:33:54.059000Z"
    }
   },
   "outputs": [
    {
     "data": {
      "text/plain": [
       "['Minsk', 'London']"
      ]
     },
     "execution_count": 4,
     "metadata": {},
     "output_type": "execute_result"
    }
   ],
   "source": [
    "MulticategoricalAnalyzer().__call__(['Minsk', 'London'])"
   ]
  },
  {
   "cell_type": "markdown",
   "metadata": {},
   "source": [
    "# Usage"
   ]
  },
  {
   "cell_type": "markdown",
   "metadata": {},
   "source": [
    "## Categorical feature"
   ]
  },
  {
   "cell_type": "code",
   "execution_count": 5,
   "metadata": {
    "ExecuteTime": {
     "end_time": "2018-05-25T16:33:54.261000Z",
     "start_time": "2018-05-25T16:33:54.162000Z"
    }
   },
   "outputs": [
    {
     "data": {
      "text/plain": [
       "matrix([[0, 0, 1],\n",
       "        [1, 0, 0],\n",
       "        [0, 0, 0],\n",
       "        [0, 0, 0]], dtype=int64)"
      ]
     },
     "execution_count": 5,
     "metadata": {},
     "output_type": "execute_result"
    }
   ],
   "source": [
    "CountVectorizer(analyzer=CategoricalAnalyzer(), binary=True, min_df=2).fit([\n",
    "    'Peter',\n",
    "    'Peter',\n",
    "    'Bob',\n",
    "    'Bob',\n",
    "    'Bob',\n",
    "    'John',\n",
    "    'John',\n",
    "    'Max'\n",
    "]).transform([\n",
    "    'Peter',\n",
    "    'Bob',\n",
    "    'Max',\n",
    "    'Rambo'\n",
    "]).todense()"
   ]
  },
  {
   "cell_type": "markdown",
   "metadata": {},
   "source": [
    "## Multicategorical feature"
   ]
  },
  {
   "cell_type": "code",
   "execution_count": 6,
   "metadata": {
    "ExecuteTime": {
     "end_time": "2018-05-25T16:33:54.361000Z",
     "start_time": "2018-05-25T16:33:54.264000Z"
    }
   },
   "outputs": [
    {
     "data": {
      "text/plain": [
       "matrix([[1, 0, 0],\n",
       "        [1, 1, 0],\n",
       "        [1, 0, 0],\n",
       "        [0, 0, 1],\n",
       "        [0, 0, 0],\n",
       "        [0, 0, 0]], dtype=int64)"
      ]
     },
     "execution_count": 6,
     "metadata": {},
     "output_type": "execute_result"
    }
   ],
   "source": [
    "CountVectorizer(analyzer=MulticategoricalAnalyzer(), binary=True, min_df=2).fit([\n",
    "    ['Minsk', 'Paris'],\n",
    "    ['Minsk'],\n",
    "    ['Minsk'],\n",
    "    ['Minsk', 'Moscow', 'Houston'],    \n",
    "    ['Paris'],\n",
    "    ['London'],\n",
    "    ['Sydney'],\n",
    "    ['Sydney']\n",
    "]).transform([\n",
    "    ['Minsk'],\n",
    "    ['Minsk', 'Paris'],\n",
    "    ['Minsk', 'Minsk'],\n",
    "    ['Sydney'],\n",
    "    ['London', 'London', 'Houston'],    \n",
    "    ['New York']\n",
    "]).todense()"
   ]
  },
  {
   "cell_type": "markdown",
   "metadata": {
    "ExecuteTime": {
     "end_time": "2018-05-25T15:09:17.356000Z",
     "start_time": "2018-05-25T15:09:17.347000Z"
    }
   },
   "source": [
    "# Persistence"
   ]
  },
  {
   "cell_type": "code",
   "execution_count": 7,
   "metadata": {
    "ExecuteTime": {
     "end_time": "2018-05-25T16:33:54.518000Z",
     "start_time": "2018-05-25T16:33:54.364000Z"
    }
   },
   "outputs": [
    {
     "data": {
      "text/plain": [
       "{'Minsk': 0, 'Paris': 1, 'Sydney': 2}"
      ]
     },
     "execution_count": 7,
     "metadata": {},
     "output_type": "execute_result"
    }
   ],
   "source": [
    "v = CountVectorizer(analyzer=MulticategoricalAnalyzer(), binary=True, min_df=2).fit([\n",
    "    ['Minsk', 'Paris'],\n",
    "    ['Minsk'],\n",
    "    ['Minsk'],\n",
    "    ['Minsk', 'Moscow'],\n",
    "    ['Sydney'],\n",
    "    ['Sydney'],\n",
    "    ['Sydney'],\n",
    "    ['Sydney'],\n",
    "    ['Paris'],\n",
    "    ['London']\n",
    "])\n",
    "vp = pickle.loads(pickle.dumps(v))\n",
    "assert v.vocabulary_ == vp.vocabulary_\n",
    "vp.vocabulary_"
   ]
  }
 ],
 "metadata": {
  "kernelspec": {
   "display_name": "Python 2",
   "language": "python",
   "name": "python2"
  },
  "language_info": {
   "codemirror_mode": {
    "name": "ipython",
    "version": 2
   },
   "file_extension": ".py",
   "mimetype": "text/x-python",
   "name": "python",
   "nbconvert_exporter": "python",
   "pygments_lexer": "ipython2",
   "version": "2.7.14"
  },
  "toc": {
   "collapse_to_match_collapsible_headings": true,
   "colors": {
    "hover_highlight": "#DAA520",
    "navigate_num": "#000000",
    "navigate_text": "#333333",
    "running_highlight": "#FF0000",
    "selected_highlight": "#FFD700",
    "sidebar_border": "#EEEEEE",
    "wrapper_background": "#FFFFFF"
   },
   "moveMenuLeft": true,
   "navigate_menu": false,
   "number_sections": true,
   "sideBar": true,
   "threshold": 4,
   "toc_cell": true,
   "toc_section_display": "block",
   "toc_window_display": true,
   "widenNotebook": false
  }
 },
 "nbformat": 4,
 "nbformat_minor": 2
}
