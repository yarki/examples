{
 "cells": [
  {
   "cell_type": "markdown",
   "metadata": {
    "toc": "true"
   },
   "source": [
    "# Table of Contents\n",
    " <p><div class=\"lev1 toc-item\"><a href=\"#Components\" data-toc-modified-id=\"Components-1\"><span class=\"toc-item-num\">1&nbsp;&nbsp;</span>Components</a></div><div class=\"lev1 toc-item\"><a href=\"#Behavior\" data-toc-modified-id=\"Behavior-2\"><span class=\"toc-item-num\">2&nbsp;&nbsp;</span>Behavior</a></div><div class=\"lev1 toc-item\"><a href=\"#Usage\" data-toc-modified-id=\"Usage-3\"><span class=\"toc-item-num\">3&nbsp;&nbsp;</span>Usage</a></div><div class=\"lev2 toc-item\"><a href=\"#Categorical\" data-toc-modified-id=\"Categorical-31\"><span class=\"toc-item-num\">3.1&nbsp;&nbsp;</span>Categorical</a></div><div class=\"lev2 toc-item\"><a href=\"#Multicategorical\" data-toc-modified-id=\"Multicategorical-32\"><span class=\"toc-item-num\">3.2&nbsp;&nbsp;</span>Multicategorical</a></div><div class=\"lev1 toc-item\"><a href=\"#Persistence-test\" data-toc-modified-id=\"Persistence-test-4\"><span class=\"toc-item-num\">4&nbsp;&nbsp;</span>Persistence test</a></div>"
   ]
  },
  {
   "cell_type": "code",
   "execution_count": 8,
   "metadata": {
    "ExecuteTime": {
     "end_time": "2018-05-25T15:19:53.686000Z",
     "start_time": "2018-05-25T15:19:53.680000Z"
    },
    "collapsed": true
   },
   "outputs": [],
   "source": [
    "from sklearn.feature_extraction.text import CountVectorizer\n",
    "import pickle"
   ]
  },
  {
   "cell_type": "markdown",
   "metadata": {},
   "source": [
    "# Components"
   ]
  },
  {
   "cell_type": "code",
   "execution_count": 9,
   "metadata": {
    "ExecuteTime": {
     "end_time": "2018-05-25T15:19:53.797000Z",
     "start_time": "2018-05-25T15:19:53.691000Z"
    }
   },
   "outputs": [],
   "source": [
    "class CategoricalAnalyzer:    \n",
    "    def __call__(self, value):\n",
    "        assert not isinstance(value, list), 'don\\'t give me a list!'\n",
    "        return [value]\n",
    "    \n",
    "class MulticategoricalAnalyzer:\n",
    "    def __call__(self, value):\n",
    "        assert isinstance(value, list), 'hey! give me a list!'\n",
    "        return value"
   ]
  },
  {
   "cell_type": "markdown",
   "metadata": {},
   "source": [
    "# Behavior"
   ]
  },
  {
   "cell_type": "code",
   "execution_count": 10,
   "metadata": {
    "ExecuteTime": {
     "end_time": "2018-05-25T15:19:53.959000Z",
     "start_time": "2018-05-25T15:19:53.800000Z"
    }
   },
   "outputs": [
    {
     "data": {
      "text/plain": [
       "['Bob']"
      ]
     },
     "execution_count": 10,
     "metadata": {},
     "output_type": "execute_result"
    }
   ],
   "source": [
    "CategoricalAnalyzer().__call__('Bob')"
   ]
  },
  {
   "cell_type": "code",
   "execution_count": 11,
   "metadata": {
    "ExecuteTime": {
     "end_time": "2018-05-25T15:19:54.057000Z",
     "start_time": "2018-05-25T15:19:53.966000Z"
    }
   },
   "outputs": [
    {
     "data": {
      "text/plain": [
       "['Minsk', 'London']"
      ]
     },
     "execution_count": 11,
     "metadata": {},
     "output_type": "execute_result"
    }
   ],
   "source": [
    "MulticategoricalAnalyzer().__call__(['Minsk', 'London'])"
   ]
  },
  {
   "cell_type": "markdown",
   "metadata": {},
   "source": [
    "# Usage"
   ]
  },
  {
   "cell_type": "markdown",
   "metadata": {},
   "source": [
    "## Categorical"
   ]
  },
  {
   "cell_type": "code",
   "execution_count": 12,
   "metadata": {
    "ExecuteTime": {
     "end_time": "2018-05-25T15:19:54.181000Z",
     "start_time": "2018-05-25T15:19:54.061000Z"
    }
   },
   "outputs": [
    {
     "data": {
      "text/plain": [
       "matrix([[0, 1],\n",
       "        [1, 0],\n",
       "        [0, 0],\n",
       "        [0, 0]], dtype=int64)"
      ]
     },
     "execution_count": 12,
     "metadata": {},
     "output_type": "execute_result"
    }
   ],
   "source": [
    "CountVectorizer(analyzer=CategoricalAnalyzer(), binary=True, min_df=2).fit([\n",
    "    'Peter',\n",
    "    'Peter',\n",
    "    'Bob',\n",
    "    'Bob',\n",
    "    'Bob',\n",
    "    'Max'\n",
    "]).transform([\n",
    "    'Peter',\n",
    "    'Bob',\n",
    "    'Max',\n",
    "    'Rambo'\n",
    "]).todense()"
   ]
  },
  {
   "cell_type": "markdown",
   "metadata": {},
   "source": [
    "## Multicategorical"
   ]
  },
  {
   "cell_type": "code",
   "execution_count": 13,
   "metadata": {
    "ExecuteTime": {
     "end_time": "2018-05-25T15:19:54.285000Z",
     "start_time": "2018-05-25T15:19:54.186000Z"
    }
   },
   "outputs": [
    {
     "data": {
      "text/plain": [
       "matrix([[1, 0],\n",
       "        [1, 1],\n",
       "        [1, 0],\n",
       "        [0, 0]], dtype=int64)"
      ]
     },
     "execution_count": 13,
     "metadata": {},
     "output_type": "execute_result"
    }
   ],
   "source": [
    "CountVectorizer(analyzer=MulticategoricalAnalyzer(), binary=True, min_df=2).fit([\n",
    "    ['Minsk', 'Paris'],\n",
    "    ['Minsk'],\n",
    "    ['Minsk', 'Moscow'],\n",
    "    ['Minsk'],\n",
    "    ['Paris'],\n",
    "    ['London']\n",
    "]).transform([\n",
    "    ['Minsk'],\n",
    "    ['Minsk', 'Paris'],\n",
    "    ['Minsk', 'Minsk'],\n",
    "    ['London', 'London'],\n",
    "]).todense()"
   ]
  },
  {
   "cell_type": "markdown",
   "metadata": {
    "ExecuteTime": {
     "end_time": "2018-05-25T15:09:17.356000Z",
     "start_time": "2018-05-25T15:09:17.347000Z"
    }
   },
   "source": [
    "# Persistence test"
   ]
  },
  {
   "cell_type": "code",
   "execution_count": 14,
   "metadata": {
    "ExecuteTime": {
     "end_time": "2018-05-25T15:19:54.386000Z",
     "start_time": "2018-05-25T15:19:54.289000Z"
    }
   },
   "outputs": [
    {
     "data": {
      "text/plain": [
       "{'Minsk': 0, 'Paris': 1}"
      ]
     },
     "execution_count": 14,
     "metadata": {},
     "output_type": "execute_result"
    }
   ],
   "source": [
    "v = CountVectorizer(analyzer=MulticategoricalAnalyzer(), binary=True, min_df=2).fit([\n",
    "    ['Minsk', 'Paris'],\n",
    "    ['Minsk'],\n",
    "    ['Minsk', 'Moscow'],\n",
    "    ['Minsk'],\n",
    "    ['Paris'],\n",
    "    ['London']\n",
    "])\n",
    "vp = pickle.loads(pickle.dumps(v))\n",
    "assert v.vocabulary_ == vp.vocabulary_\n",
    "vp.vocabulary_"
   ]
  }
 ],
 "metadata": {
  "kernelspec": {
   "display_name": "Python 2",
   "language": "python",
   "name": "python2"
  },
  "language_info": {
   "codemirror_mode": {
    "name": "ipython",
    "version": 2
   },
   "file_extension": ".py",
   "mimetype": "text/x-python",
   "name": "python",
   "nbconvert_exporter": "python",
   "pygments_lexer": "ipython2",
   "version": "2.7.14"
  },
  "toc": {
   "collapse_to_match_collapsible_headings": true,
   "colors": {
    "hover_highlight": "#DAA520",
    "navigate_num": "#000000",
    "navigate_text": "#333333",
    "running_highlight": "#FF0000",
    "selected_highlight": "#FFD700",
    "sidebar_border": "#EEEEEE",
    "wrapper_background": "#FFFFFF"
   },
   "moveMenuLeft": true,
   "navigate_menu": false,
   "number_sections": true,
   "sideBar": true,
   "threshold": 4,
   "toc_cell": true,
   "toc_section_display": "block",
   "toc_window_display": true,
   "widenNotebook": false
  }
 },
 "nbformat": 4,
 "nbformat_minor": 2
}
